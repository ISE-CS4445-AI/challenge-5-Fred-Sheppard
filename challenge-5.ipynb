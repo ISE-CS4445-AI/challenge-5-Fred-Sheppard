{
  "cells": [
    {
      "cell_type": "markdown",
      "metadata": {
        "id": "d2tw01le53fJ"
      },
      "source": [
        "# Challenge 5 - RNNs\n",
        "\n",
        "Welcome to challenge #5!\n",
        "\n",
        "In this challenge, you will implement a simple RNN classifier using an LSTM cell for sentiment analysis on the YelpReviewPolarity dataset (a binary sentiment classification dataset).\n",
        "\n",
        "Your model should include:\n",
        "- An **Embedding** layer (with a specified `padding_idx`)\n",
        "- An **LSTM** layer (with `batch_first=True`)\n",
        "- A **Fully Connected (fc)** layer to map the final hidden state to the output\n",
        "- A **Sigmoid** activation to produce a probability between 0 and 1\n",
        "\n",
        "Your tasks are:\n",
        "\n",
        "1. **Data Preprocessing & DataLoader Setup** (2 points):  \n",
        "   Import the YelpReviewPolarity dataset, tokenize the text, build a vocabulary, and create a DataLoader to supply batches to your model.\n",
        "\n",
        "2. **RNNClassifier** (2 points):  \n",
        "   Implement a class that builds and returns the RNN classifier model using the parameters provided.\n",
        "\n",
        "3. **Training and evaluating the model** (2 points):  \n",
        "   Implement a function that takes your model and trains it over a number of epochs and then tests it with sample yelp reviews.\n",
        "\n",
        "4. **Q&A Section** (3 points total, 1 point each):  \n",
        "   Answer three questions (in markdown) about your implementation and key concepts.\n",
        "\n",
        "When you are finished, the provided pytest tests at the end of this notebook will automatically evaluate your code.\n",
        "\n",
        "\n",
        "## Important Note on Environment:\n",
        "This challenge will <span style=\"color: red\">not work properly on Codespaces</span> because of the lack of GPU and pytorch support (at least I haven't figured out the setup yet). So for this challenge, you will open your repository's notebook in Google Collab and continue. You can do so by clicking the \"Open in Collab\" badge below and opening this notebook from your repository there.\n",
        "\n",
        "<a href=\"https://colab.research.google.com/\" target=\"_parent\"><img src=\"https://colab.research.google.com/assets/colab-badge.svg\" alt=\"Open In Colab\"/></a>\n",
        "\n",
        "After completing the code part, please make sure to run the TESTING section of this notebook for the test cases. Again, the pytest on Github will fail. I shall manually enter your grades without the help of the autograder for this challenge referring to the test section at the end."
      ]
    },
    {
      "cell_type": "markdown",
      "metadata": {
        "id": "gm-6tSZaiK45"
      },
      "source": [
        "## Imports and setup"
      ]
    },
    {
      "cell_type": "code",
      "execution_count": 73,
      "metadata": {
        "id": "iytpJ9zKiK45"
      },
      "outputs": [],
      "source": [
        "# # Downloading the yelp review dataset\n",
        "# !wget \"https://drive.usercontent.google.com/download?id=0Bz8a_Dbh9QhbNUpYQ2N3SGlFaDg&export=download&authuser=0&confirm=t&uuid=08839d6e-0170-44f8-a1c1-2f829c484617&at=AIrpjvOJpeXNKY4yGqP9mw6bXpQS:1739966900676\" -O yelp_review_polarity_csv.tar\n",
        "\n",
        "# # Extracting the dataset\n",
        "# !tar -xvf yelp_review_polarity_csv.tar\n",
        "\n",
        "# # Downloading python package dependencies\n",
        "# !pip install torchdata==0.6.1 torchtext portalocker==2.7.0"
      ]
    },
    {
      "cell_type": "code",
      "execution_count": 74,
      "metadata": {
        "id": "6xyqsofjiK45",
        "outputId": "adf430b2-3d63-4793-c489-5c0afbb9214b",
        "colab": {
          "base_uri": "https://localhost:8080/"
        }
      },
      "outputs": [
        {
          "output_type": "execute_result",
          "data": {
            "text/plain": [
              "<torch._C.Generator at 0x7ecbf07663f0>"
            ]
          },
          "metadata": {},
          "execution_count": 74
        }
      ],
      "source": [
        "import torch\n",
        "import torch.nn as nn\n",
        "from torch.utils.data import DataLoader, Dataset\n",
        "import torch.optim as optim\n",
        "from torch.nn.utils.rnn import pad_sequence\n",
        "from torchtext.datasets import YelpReviewPolarity\n",
        "from torchtext.data.utils import get_tokenizer\n",
        "from torchtext.vocab import build_vocab_from_iterator\n",
        "\n",
        "import csv\n",
        "\n",
        "# Set random seed for reproducibility.\n",
        "torch.manual_seed(42)"
      ]
    },
    {
      "cell_type": "markdown",
      "metadata": {
        "id": "bYNEZiGIiK49"
      },
      "source": [
        "## Task 1: Data Preprocessing (2 points)\n",
        "\n",
        "Note: the YelpReviewPolarity dataset label includes\n",
        "- 1 : Negative polarity.\n",
        "- 2 : Positive polarity.\n",
        "\n",
        "Refer the [pytorch docs](https://pytorch.org/text/0.8.1/datasets.html#yelpreviewpolarity) for the dataset for more info.\n",
        "\n",
        "The below code cell downloads the dataset and loads it for you."
      ]
    },
    {
      "cell_type": "code",
      "execution_count": 75,
      "metadata": {
        "id": "rGZw9EAxiK49",
        "outputId": "b930e60f-7aaf-424c-e79a-d00bfe0ef7b3",
        "colab": {
          "base_uri": "https://localhost:8080/"
        }
      },
      "outputs": [
        {
          "output_type": "stream",
          "name": "stdout",
          "text": [
            "Number of training examples: 50000\n",
            "Number of testing examples: 38000\n"
          ]
        }
      ],
      "source": [
        "def load_local_yelp_list(train_csv_path, test_csv_path, has_header=True, sample_size=50000):\n",
        "    \"\"\"\n",
        "    Reads the local train.csv and test.csv for Yelp Review Polarity\n",
        "    and returns two lists: train_list, test_list,\n",
        "    where each element is (label, text).\n",
        "    label is int (1 or 2), text is the review string.\n",
        "    \"\"\"\n",
        "    train_list = []\n",
        "    with open(train_csv_path, 'r', encoding='utf-8') as f:\n",
        "        reader = csv.reader(f)\n",
        "        if has_header:\n",
        "            next(reader, None)  # skip the header row\n",
        "        for row in reader:\n",
        "            if len(train_list) >= sample_size:\n",
        "                break\n",
        "            label_str, text = row\n",
        "            label = int(label_str)\n",
        "            train_list.append((label, text))\n",
        "\n",
        "    test_list = []\n",
        "    with open(test_csv_path, 'r', encoding='utf-8') as f:\n",
        "        reader = csv.reader(f)\n",
        "        if has_header:\n",
        "            next(reader, None)\n",
        "        for row in reader:\n",
        "            label_str, text = row\n",
        "            label = int(label_str)\n",
        "            test_list.append((label, text))\n",
        "\n",
        "    return train_list, test_list\n",
        "\n",
        "train_list, test_list = load_local_yelp_list('./yelp_review_polarity_csv/train.csv', './yelp_review_polarity_csv/test.csv', has_header=False)\n",
        "print(f\"Number of training examples: {len(train_list)}\")\n",
        "print(f\"Number of testing examples: {len(test_list)}\")"
      ]
    },
    {
      "cell_type": "code",
      "execution_count": 76,
      "metadata": {
        "id": "SgL6AMh_iK4_",
        "outputId": "250b4e66-089e-4940-9051-bb2f640f6496",
        "colab": {
          "base_uri": "https://localhost:8080/"
        }
      },
      "outputs": [
        {
          "output_type": "stream",
          "name": "stdout",
          "text": [
            "(1, \"Unfortunately, the frustration of being Dr. Goldberg's patient is a repeat of the experience I've had with so many other doctors in NYC -- good doctor, terrible staff.  It seems that his staff simply never answers the phone.  It usually takes 2 hours of repeated calling to get an answer.  Who has time for that or wants to deal with it?  I have run into this problem with many other doctors and I just don't get it.  You have office workers, you have patients with medical needs, why isn't anyone answering the phone?  It's incomprehensible and not work the aggravation.  It's with regret that I feel that I have to give Dr. Goldberg 2 stars.\")\n"
          ]
        }
      ],
      "source": [
        "\n",
        "# TODO: Define a tokenizer using torchtext's basic_english tokenizer.\n",
        "tokenizer = get_tokenizer('basic_english')\n",
        "\n",
        "# TODO: Write a function 'yield_tokens' that takes the dataset iterator and yields tokens.\n",
        "def yield_tokens(data_iter):\n",
        "    # Replace with your code: iterate over data_iter and yield tokens for each text.\n",
        "    for label, text in data_iter:\n",
        "      yield tokenizer(text)\n",
        "    pass\n",
        "\n",
        "# TODO: Print the first datapoint from your train list\n",
        "print(train_list[0])\n",
        "\n",
        "\n",
        "# TODO: Build the vocabulary using 'build_vocab_from_iterator' with special tokens '<unk>' and '<pad>'.\n",
        "# Set the default index for unknown tokens to the index of '<unk>'.\n",
        "specials = ['<unk>', '<pad>']\n",
        "vocab = build_vocab_from_iterator(yield_tokens(train_list), specials=specials, special_first=True)\n",
        "vocab.set_default_index(vocab['<unk>'])\n",
        "\n",
        "# TODO: Define a text pipeline function that converts a text string into a list of token IDs using the vocabulary.\n",
        "def text_pipeline(text):\n",
        "    return [vocab[token] for token in tokenizer(text)]\n",
        "\n",
        "# TODO: Define a label pipeline function that converts the label (as a string) into an integer (e.g., 1 for positive, 0 for negative).\n",
        "def label_pipeline(label):\n",
        "    return 1 if label == 2 else 0"
      ]
    },
    {
      "cell_type": "code",
      "execution_count": 77,
      "metadata": {
        "id": "Jk9CdNUQiK4_"
      },
      "outputs": [],
      "source": [
        "# -------------------------\n",
        "# Create a custom Dataset and DataLoader\n",
        "# -------------------------\n",
        "class YelpDataset(Dataset):\n",
        "    def __init__(self, data_iter):\n",
        "        # TODO: Store the data and process it if necessary.\n",
        "        self.data = data_iter\n",
        "\n",
        "    def __len__(self):\n",
        "        # TODO: Return the total number of examples.\n",
        "        return len(self.data)\n",
        "\n",
        "    def __getitem__(self, idx):\n",
        "        # TODO: Return the processed (text_tensor, label) tuple for index idx.\n",
        "        processed_text = text_pipeline(self.data[idx][1])\n",
        "        processed_label = label_pipeline(self.data[idx][0])\n",
        "        return torch.tensor(processed_text), torch.tensor(processed_label)\n",
        "\n",
        "# TODO: Create a collate function that pads sequences in a batch.\n",
        "def collate_batch(batch):\n",
        "    text_list, label_list = zip(*batch)\n",
        "    text_list = pad_sequence(text_list, batch_first=True, padding_value=vocab['<pad>'])\n",
        "    labels = torch.tensor(label_list)\n",
        "    return text_list, labels\n",
        "\n",
        "# TODO: Create a DataLoader for the training data.\n",
        "batch_size = 32\n",
        "train_dataset = YelpDataset(train_list)  # Replace with your code to create an instance of YelpDataset.\n",
        "train_loader = DataLoader(train_dataset, batch_size=batch_size, shuffle=True, collate_fn=collate_batch) # Replace with your code to create a DataLoader using collate_batch."
      ]
    },
    {
      "cell_type": "markdown",
      "metadata": {
        "id": "-SWYbfIfiK5A"
      },
      "source": [
        "## Task 2: Build the RNN Classifier (2 points)"
      ]
    },
    {
      "cell_type": "code",
      "execution_count": 78,
      "metadata": {
        "id": "lbh_ZrE6iK5B"
      },
      "outputs": [],
      "source": [
        "# TODO: Implement the RNNClassifier class with no implementation provided.\n",
        "class RNNClassifier(nn.Module):\n",
        "    def __init__(self, vocab_size: int, embed_dim: int, hidden_dim: int, output_dim: int, num_layers: int, padding_idx: int):\n",
        "        super(RNNClassifier, self).__init__()\n",
        "        # TODO: Create an Embedding layer.\n",
        "        self.embedding = nn.Embedding(vocab_size, embed_dim, padding_idx=vocab[''])\n",
        "        # TODO: Create an LSTM layer (batch_first=True).\n",
        "        self.lstm = nn.LSTM(embed_dim, hidden_dim, num_layers=num_layers, batch_first=True)\n",
        "        # TODO: Create a fully connected layer mapping hidden_dim to output_dim.\n",
        "        self.fc = nn.Linear(hidden_dim, output_dim)\n",
        "        # TODO: Create a Sigmoid activation.\n",
        "        self.sigmoid = nn.Sigmoid()\n",
        "\n",
        "    def forward(self, text):\n",
        "        embedded = self.embedding(text)\n",
        "        output, (hidden, cell) = self.lstm(embedded)\n",
        "        hidden_last = hidden[-1]\n",
        "        logits = self.fc(hidden_last)\n",
        "        return self.sigmoid(logits).squeeze()"
      ]
    },
    {
      "cell_type": "markdown",
      "metadata": {
        "id": "x61ljObxiK5B"
      },
      "source": [
        "## Task 3: Training and evaluating your model (2 points)"
      ]
    },
    {
      "cell_type": "code",
      "execution_count": 79,
      "metadata": {
        "id": "9xyI8fHoiK5B"
      },
      "outputs": [],
      "source": [
        "def train_and_evaluate():\n",
        "    # TODO: Define the device (e.g., \"cuda\")\n",
        "    device = \"cuda\" if torch.cuda.is_available() else \"cpu\"\n",
        "\n",
        "    # Use the vocabulary built in the Data Preprocessing section.\n",
        "    vocab_size = len(vocab)\n",
        "    embed_dim = 100        # You can choose a value (e.g., 100)\n",
        "    hidden_dim = 128       # You can choose a value (e.g., 128)\n",
        "    output_dim = 1         # For binary classification, output dimension is 1\n",
        "    num_layers = 1         # Number of LSTM layers, e.g., 1\n",
        "    padding_idx = vocab['<pad>']\n",
        "\n",
        "    # TODO: Build your RNN classifier using your RNNClassifier class.\n",
        "    model = RNNClassifier(vocab_size, embed_dim, hidden_dim, output_dim, num_layers, padding_idx)\n",
        "    model = model.to(device)\n",
        "\n",
        "    # TODO: Define your loss function\n",
        "    criterion = nn.BCELoss()\n",
        "\n",
        "    # TODO: Define your optimizer with a chosen learning rate.\n",
        "    optimizer = optim.Adam(model.parameters(), lr=.0001)\n",
        "\n",
        "    # Set the number of epochs for training.\n",
        "    num_epochs = 10  # You can adjust the number of epochs.\n",
        "\n",
        "    for epoch in range(num_epochs):\n",
        "        # TODO: Set the model to training mode.\n",
        "        model.train()\n",
        "\n",
        "        epoch_loss = 0.0  # Initialize epoch loss.\n",
        "\n",
        "        # Iterate over batches in your training DataLoader.\n",
        "        for batch_idx, (text_batch, label_batch) in enumerate(train_loader):\n",
        "            # TODO: Move text_batch and label_batch to the defined device.\n",
        "            text_batch, label_batch = text_batch.to(device), label_batch.float().to(device)\n",
        "\n",
        "            # TODO: Zero out the gradients.\n",
        "            optimizer.zero_grad()\n",
        "\n",
        "            # TODO: Perform a forward pass: obtain predictions from the model.\n",
        "            predictions = model(text_batch)\n",
        "\n",
        "            # TODO: Compute the loss using your criterion.\n",
        "            loss = criterion(predictions, label_batch)\n",
        "\n",
        "            # TODO: Perform the backward pass to compute gradients.\n",
        "            loss.backward()\n",
        "\n",
        "\n",
        "            # TODO: Update the model parameters.\n",
        "            optimizer.step()\n",
        "\n",
        "\n",
        "            # TODO: Accumulate the loss for reporting.\n",
        "            epoch_loss += loss.item()\n",
        "\n",
        "        # Compute the average loss for the epoch and print it.\n",
        "        avg_loss = epoch_loss / len(train_loader)\n",
        "        print(f\"Epoch {epoch+1}/{num_epochs}, Loss: {avg_loss:.4f}\")\n",
        "\n",
        "    # -------------------------\n",
        "    # Evaluation on Sample Yelp Reviews\n",
        "    # -------------------------\n",
        "\n",
        "    # Define some sample Yelp reviews for evaluation.\n",
        "    sample_reviews = [\n",
        "        \"The food was amazing and the service was excellent!\",\n",
        "        \"I did not enjoy my visit at all. The experience was terrible.\",\n",
        "        \"The ambiance was pleasant but the food was just okay.\",\n",
        "        \"Absolutely loved the place! Will come back again.\"\n",
        "    ]\n",
        "\n",
        "    # TODO: Set the model to evaluation mode.\n",
        "\n",
        "    predictions = []  # Store the predictions for the sample reviews.\n",
        "    print(\"Evaluation on Sample Yelp Reviews:\")\n",
        "    for review in sample_reviews:\n",
        "        with torch.no_grad():\n",
        "            # TODO: Convert the review text to a tensor using your text_pipeline function.\n",
        "            # Convert text to tensor and add batch dimension.\n",
        "            text_tensor = torch.tensor(text_pipeline(review)).unsqueeze(0).to(device)\n",
        "            prediction = model(text_tensor)\n",
        "            # Return sentiment label based on threshold 0.5.\n",
        "            sentiment = \"Positive\" if prediction.item() >= 0.5 else \"Negative\"\n",
        "\n",
        "            # Print the review and its predicted sentiment along with the prediction score.\n",
        "            print(f\"Review: {review}\\nPredicted Sentiment: {sentiment} (Score: {prediction.item():.4f})\\n\")\n",
        "\n",
        "            # TODO: Append the prediction score (as a float) to the predictions list.\n",
        "            predictions.append(prediction.item())\n",
        "\n",
        "    # Return a dictionary with keys \"avg_loss\" and \"predictions\".\n",
        "    return {\"avg_loss\": avg_loss, \"predictions\": predictions}"
      ]
    },
    {
      "cell_type": "markdown",
      "metadata": {
        "id": "Z3JyM5UDiK5C"
      },
      "source": [
        "## Task 4: Q&A Section (3 points)\n",
        "\n",
        "Please answer the questions below in brief. Each carries 1 point. This section is also open-book i.e., you can refer documentation to inform your response.\n"
      ]
    },
    {
      "cell_type": "markdown",
      "metadata": {
        "id": "2mAC_hh5iK5C"
      },
      "source": [
        "**Question 1:**  \n",
        "What is the purpose of specifying a `padding_idx` in the Embedding layer, and how does it affect the model's training and output?"
      ]
    },
    {
      "cell_type": "markdown",
      "metadata": {
        "id": "r2U-E9exiK5C"
      },
      "source": [
        "<font color='red'>*Your Answer:* </font>"
      ]
    },
    {
      "cell_type": "markdown",
      "metadata": {
        "id": "PdcU_HGiiK5C"
      },
      "source": [
        "> *(Type your answer here)*"
      ]
    },
    {
      "cell_type": "markdown",
      "metadata": {
        "id": "7pTr1Yl1iK5C"
      },
      "source": [
        "**Question 2:**  \n",
        "Why do we use the final hidden state from the LSTM for classification? How does this hidden state encapsulate the overall information of the input sequence in the context of sentiment analysis?"
      ]
    },
    {
      "cell_type": "markdown",
      "metadata": {
        "id": "zDci0GR3iK5D"
      },
      "source": [
        "<font color='red'>*Your Answer:* </font>"
      ]
    },
    {
      "cell_type": "markdown",
      "metadata": {
        "id": "1ggxPLnziK5D"
      },
      "source": [
        "> *(Type your answer here)*"
      ]
    },
    {
      "cell_type": "markdown",
      "metadata": {
        "id": "6oJ0IVbLiK5D"
      },
      "source": [
        "**Question 3:**  \n",
        "What is the role of the Sigmoid activation in this binary classification model? How might this change if you were working on a multi-class classification task? (think of other activation functions)"
      ]
    },
    {
      "cell_type": "markdown",
      "metadata": {
        "id": "QsU_WqbuiK5D"
      },
      "source": [
        "<font color='red'>*Your Answer:* </font>"
      ]
    },
    {
      "cell_type": "markdown",
      "metadata": {
        "id": "xFkdsqHJiK5D"
      },
      "source": [
        "It maps the output from a probability (range between 0 and 1) to a binary classification (0 or 1). This allows the model to predict \"Positive\" or \"Negative\""
      ]
    },
    {
      "cell_type": "markdown",
      "metadata": {
        "id": "UKa2MDnziK5D"
      },
      "source": [
        "---\n",
        "# Autograder section.\n",
        "\n",
        "After you finish your code implementation, please run this part of the notebook to see your score for the coding section (6 points)."
      ]
    },
    {
      "cell_type": "code",
      "execution_count": null,
      "metadata": {
        "id": "me2sHIzSiK5E",
        "outputId": "0c8e3611-76c7-4867-c561-3e57d8875bf3",
        "colab": {
          "base_uri": "https://localhost:8080/"
        }
      },
      "outputs": [
        {
          "output_type": "stream",
          "name": "stdout",
          "text": [
            "Data Preprocessing Test: Passed (2 points)\n",
            "RNN Implementation Test: Passed (2 points)\n"
          ]
        }
      ],
      "source": [
        "# ================================\n",
        "# Pytest Code Cells for Evaluation\n",
        "# ================================\n",
        "\n",
        "def run_tests_and_accumulate_score():\n",
        "    score = 0\n",
        "    total = 6  # Total code points available: 2 + 2 + 2\n",
        "\n",
        "    # ------------------------------\n",
        "    # Part 1: Data Preprocessing (2 points)\n",
        "    # ------------------------------\n",
        "    try:\n",
        "        # Test that tokenizer is defined and callable.\n",
        "        assert tokenizer is not None, \"Tokenizer is not defined.\"\n",
        "        assert callable(tokenizer), \"Tokenizer is not callable.\"\n",
        "\n",
        "        # Test that yield_tokens is implemented.\n",
        "        assert callable(yield_tokens), \"yield_tokens function is not defined or callable.\"\n",
        "\n",
        "        # Test that train_list is loaded and non-empty.\n",
        "        assert len(train_list) > 0, \"train_list appears to be empty.\"\n",
        "\n",
        "        # Test that vocab is defined and includes the '<pad>' token.\n",
        "        assert vocab is not None, \"vocab is not defined.\"\n",
        "        itos = vocab.get_itos() if hasattr(vocab, \"get_itos\") else []\n",
        "        assert '<pad>' in itos, \"vocab does not contain the '<pad>' token.\"\n",
        "\n",
        "        # Test text_pipeline: it should return a list of integers.\n",
        "        sample_text = \"this is a test\"\n",
        "        token_ids = text_pipeline(sample_text)\n",
        "        assert isinstance(token_ids, list), \"text_pipeline should return a list.\"\n",
        "        for tid in token_ids:\n",
        "            assert isinstance(tid, int), \"Each token ID from text_pipeline should be an integer.\"\n",
        "\n",
        "        # Test label_pipeline: check that it converts labels (e.g., \"positive\") to an integer.\n",
        "        sample_label = \"positive\"\n",
        "        label_int = label_pipeline(sample_label)\n",
        "        assert isinstance(label_int, int), \"label_pipeline should return an integer.\"\n",
        "\n",
        "        # Optionally, test that the Dataset and DataLoader work.\n",
        "        dataset = YelpDataset(train_list)\n",
        "        # Ensure __len__ and __getitem__ work.\n",
        "        assert len(dataset) > 0, \"Dataset __len__ returned zero.\"\n",
        "        sample_item = dataset[0]\n",
        "        assert isinstance(sample_item, tuple) and len(sample_item) == 2, \"Dataset __getitem__ should return a tuple (text_tensor, label).\"\n",
        "        # Test collate_batch by creating a mini-batch.\n",
        "        batch = [dataset[i] for i in range(min(3, len(dataset)))]\n",
        "        collated = collate_batch(batch)\n",
        "        assert isinstance(collated, tuple) and len(collated) == 2, \"collate_batch should return a tuple (padded_texts, labels).\"\n",
        "\n",
        "        score += 2\n",
        "        print(\"Data Preprocessing Test: Passed (2 points)\")\n",
        "    except AssertionError as e:\n",
        "        print(\"Data Preprocessing Test: Failed -\", e)\n",
        "\n",
        "    # ------------------------------\n",
        "    # Part 2: RNN Implementation (2 points)\n",
        "    # ------------------------------\n",
        "    try:\n",
        "        # Use arbitrary parameters for testing.\n",
        "        test_vocab_size = 2000\n",
        "        test_embed_dim = 50\n",
        "        test_hidden_dim = 64\n",
        "        test_output_dim = 1\n",
        "        test_num_layers = 1\n",
        "        test_padding_idx = 0\n",
        "\n",
        "        model = RNNClassifier(test_vocab_size, test_embed_dim, test_hidden_dim, test_output_dim, test_num_layers, test_padding_idx)\n",
        "        assert isinstance(model, nn.Module), \"Model is not an instance of nn.Module.\"\n",
        "        # Verify required layers exist.\n",
        "        assert hasattr(model, \"embedding\"), \"Model is missing an embedding layer.\"\n",
        "        assert hasattr(model, \"lstm\"), \"Model is missing an LSTM layer.\"\n",
        "        assert hasattr(model, \"fc\"), \"Model is missing a fully connected layer.\"\n",
        "\n",
        "        # Test a forward pass using dummy input.\n",
        "        dummy_input = torch.randint(0, test_vocab_size, (4, 10))  # Batch size of 4, sequence length of 10.\n",
        "        output = model(dummy_input)\n",
        "        # Expect output to be 1D with length equal to batch size.\n",
        "        assert output.dim() == 1, \"Output of forward pass should be 1D.\"\n",
        "        assert output.shape[0] == 4, f\"Output batch size expected 4 but got {output.shape[0]}.\"\n",
        "\n",
        "        score += 2\n",
        "        print(\"RNN Implementation Test: Passed (2 points)\")\n",
        "    except AssertionError as e:\n",
        "        print(\"RNN Implementation Test: Failed -\", e)\n",
        "\n",
        "    # ------------------------------\n",
        "    # Part 3: Training & Evaluation (2 points)\n",
        "    # ------------------------------\n",
        "    try:\n",
        "        # Check that a function train_and_evaluate() is defined.\n",
        "        assert callable(train_and_evaluate), \"train_and_evaluate() function is not defined or callable.\"\n",
        "\n",
        "        # Call the function and capture its output.\n",
        "        results = train_and_evaluate()\n",
        "        # Expect results to be a dictionary containing at least 'predictions' and 'avg_loss'.\n",
        "        assert isinstance(results, dict), \"train_and_evaluate() should return a dictionary.\"\n",
        "        assert \"predictions\" in results, \"Results should contain the key 'predictions'.\"\n",
        "        assert \"avg_loss\" in results, \"Results should contain the key 'avg_loss'.\"\n",
        "        # Check that predictions is a list and contains 4 elements (one for each sample review).\n",
        "        predictions = results[\"predictions\"]\n",
        "        assert isinstance(predictions, list), \"'predictions' should be a list.\"\n",
        "        assert len(predictions) == 4, \"Expected 4 predictions for the sample reviews.\"\n",
        "\n",
        "        targetPreds = ['Positive', 'Negative', 'Negative', 'Positive']\n",
        "        for idx, pred in enumerate(predictions):\n",
        "            assert isinstance(pred, float), \"Each prediction should be a float.\"\n",
        "            assert 0.0 <= pred <= 1.0, \"Each prediction should be between 0 and 1.\"\n",
        "            sentiment = \"Positive\" if pred >= 0.5 else \"Negative\"\n",
        "            assert sentiment == targetPreds[idx], f\"Expected sentiment '{targetPreds[idx]}' but got '{sentiment}'.\"\n",
        "\n",
        "        score += 2\n",
        "        print(\"Training & Evaluation Test: Passed (2 points)\")\n",
        "    except AssertionError as e:\n",
        "        print(\"Training & Evaluation Test: Failed -\", e)\n",
        "\n",
        "    print(f\"Total Code Score: {score} / {total}\")\n",
        "\n",
        "# Run the custom test runner\n",
        "run_tests_and_accumulate_score()\n"
      ]
    }
  ],
  "metadata": {
    "colab": {
      "provenance": [],
      "gpuType": "T4"
    },
    "kernelspec": {
      "display_name": "Python 3",
      "name": "python3"
    },
    "language_info": {
      "codemirror_mode": {
        "name": "ipython",
        "version": 3
      },
      "file_extension": ".py",
      "mimetype": "text/x-python",
      "name": "python",
      "nbconvert_exporter": "python",
      "pygments_lexer": "ipython3",
      "version": "3.12.6"
    },
    "accelerator": "GPU"
  },
  "nbformat": 4,
  "nbformat_minor": 0
}